{
 "cells": [
  {
   "cell_type": "code",
   "execution_count": null,
   "metadata": {
    "collapsed": true
   },
   "outputs": [],
   "source": [
    "import twitter\n",
    "import pandas as pd"
   ]
  },
  {
   "cell_type": "code",
   "execution_count": null,
   "metadata": {
    "collapsed": true
   },
   "outputs": [],
   "source": [
    "df = pd.read_csv('keys.csv', index_col=0)"
   ]
  },
  {
   "cell_type": "code",
   "execution_count": null,
   "metadata": {
    "collapsed": true
   },
   "outputs": [],
   "source": [
    "CONSUMER_KEY = df.loc['CONSUMER_KEY', 'value']\n",
    "CONSUMER_SECRET = df.loc['CONSUMER_SECRET', 'value']\n",
    "ACCESS_TOKEN = df.loc['ACCESS_TOKEN', 'value']\n",
    "ACCESS_SECRET = df.loc['ACCESS_SECRET', 'value']"
   ]
  },
  {
   "cell_type": "code",
   "execution_count": null,
   "metadata": {
    "collapsed": true
   },
   "outputs": [],
   "source": [
    "api = twitter.Api(consumer_key=CONSUMER_KEY,\n",
    "                         consumer_secret=CONSUMER_SECRET,\n",
    "                         access_token_key=ACCESS_TOKEN,\n",
    "                         access_token_secret=ACCESS_SECRET)"
   ]
  },
  {
   "cell_type": "code",
   "execution_count": null,
   "metadata": {
    "collapsed": true
   },
   "outputs": [],
   "source": [
    "my_id = api.VerifyCredentials().id"
   ]
  },
  {
   "cell_type": "code",
   "execution_count": null,
   "metadata": {
    "collapsed": true
   },
   "outputs": [],
   "source": [
    "statuses = api.GetUserTimeline(user_id=my_id,\n",
    "                                                count=200,\n",
    "                                                include_rts=False,\n",
    "                                                exclude_replies=True)\n",
    "\n",
    "for s in statuses:\n",
    "     if '52.193.110.195' in s.text:\n",
    "        print(s.text + ' '+ str(s.id))\n",
    "        api.DestroyStatus(s.id)\n",
    "\n",
    "max_id = statuses[len(statuses)-1].id"
   ]
  },
  {
   "cell_type": "code",
   "execution_count": null,
   "metadata": {
    "collapsed": true
   },
   "outputs": [],
   "source": [
    "for i in range(5):\n",
    "    statuses = api.GetUserTimeline(user_id=my_id,\n",
    "                                                    max_id=max_id,\n",
    "                                                    count=200,\n",
    "                                                    include_rts=False,\n",
    "                                                    exclude_replies=True)\n",
    "    \n",
    "    for s in statuses:\n",
    "        if '過去記事定期' in s.text:\n",
    "            print(s.text + ' '+ str(s.id) + ' ')\n",
    "            api.DestroyStatus(s.id)\n",
    "\n",
    "    next_max_id = statuses[len(statuses)-1].id\n",
    "    if max_id == next_max_id:\n",
    "        max_id = next_max_id\n",
    "    else:\n",
    "        break"
   ]
  }
 ],
 "metadata": {
  "kernelspec": {
   "display_name": "Python 3",
   "language": "python",
   "name": "python3"
  },
  "language_info": {
   "codemirror_mode": {
    "name": "ipython",
    "version": 3
   },
   "file_extension": ".py",
   "mimetype": "text/x-python",
   "name": "python",
   "nbconvert_exporter": "python",
   "pygments_lexer": "ipython3",
   "version": "3.6.2"
  }
 },
 "nbformat": 4,
 "nbformat_minor": 2
}
