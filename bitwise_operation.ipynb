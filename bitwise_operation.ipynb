{
 "cells": [
  {
   "cell_type": "markdown",
   "metadata": {},
   "source": [
    "# ビット演算について\n",
    "\n",
    "大学の課題でPythonによるビット演算のプログラムを書くことになりそうになったので、　予備調査をする。  \n",
    "\n",
    "---"
   ]
  },
  {
   "cell_type": "markdown",
   "metadata": {},
   "source": [
    "---\n",
    "\n",
    "### 基本的な扱い\n",
    "**0b**をつけて2進表記。  \n",
    "0xとか0oとかでそれぞれ8進とか16進表記を使える。  \n",
    "\n",
    "---"
   ]
  },
  {
   "cell_type": "code",
   "execution_count": 2,
   "metadata": {
    "collapsed": false
   },
   "outputs": [
    {
     "name": "stdout",
     "output_type": "stream",
     "text": [
      "5\n"
     ]
    }
   ],
   "source": [
    "bit = 0b101\n",
    "print(bit)"
   ]
  },
  {
   "cell_type": "code",
   "execution_count": 7,
   "metadata": {
    "collapsed": false
   },
   "outputs": [
    {
     "name": "stdout",
     "output_type": "stream",
     "text": [
      "15\n"
     ]
    }
   ],
   "source": [
    "oct_val = 0o017\n",
    "print(oct_val)"
   ]
  },
  {
   "cell_type": "code",
   "execution_count": 6,
   "metadata": {
    "collapsed": false
   },
   "outputs": [
    {
     "name": "stdout",
     "output_type": "stream",
     "text": [
      "4095\n"
     ]
    }
   ],
   "source": [
    "hex_val = 0xFFF\n",
    "print(hex_val)"
   ]
  },
  {
   "cell_type": "markdown",
   "metadata": {},
   "source": [
    "---\n",
    "\n",
    "### 各ビットごとの論理演算\n",
    "ANDは**&**  \n",
    "ORは**|**  \n",
    "XORは**^**  \n",
    "NOTは**~**  \n",
    "\n",
    "以下に例を示す。   \n",
    "\n",
    "----"
   ]
  },
  {
   "cell_type": "code",
   "execution_count": 9,
   "metadata": {
    "collapsed": false
   },
   "outputs": [
    {
     "name": "stdout",
     "output_type": "stream",
     "text": [
      "0\n",
      "7\n",
      "7\n",
      "-6\n",
      "-0b110\n"
     ]
    }
   ],
   "source": [
    "bit1 = 0b101\n",
    "bit2 = 0b010\n",
    "print(bit1 & bit2)\n",
    "print(bit1 | bit2)\n",
    "print(bit1 ^ bit2)\n",
    "print(~bit1)\n",
    "print(bin(~bit1))"
   ]
  },
  {
   "cell_type": "markdown",
   "metadata": {},
   "source": [
    "-----\n",
    "### 2進表記って型は?\n",
    "int型らしい。  \n",
    "\n",
    "---"
   ]
  },
  {
   "cell_type": "code",
   "execution_count": 5,
   "metadata": {
    "collapsed": false,
    "scrolled": false
   },
   "outputs": [
    {
     "data": {
      "text/plain": [
       "True"
      ]
     },
     "execution_count": 5,
     "metadata": {},
     "output_type": "execute_result"
    }
   ],
   "source": [
    "bit = 0b101\n",
    "isinstance(bit, int)"
   ]
  },
  {
   "cell_type": "markdown",
   "metadata": {},
   "source": [
    "---\n",
    "\n",
    "### 桁数が異なるビット列の演算は??\n",
    "桁数が大きい方に桁数が揃えられ、桁数が少ない方の上位ビットには0がパディングされている。  \n",
    "\n",
    "---"
   ]
  },
  {
   "cell_type": "code",
   "execution_count": 13,
   "metadata": {
    "collapsed": false
   },
   "outputs": [
    {
     "name": "stdout",
     "output_type": "stream",
     "text": [
      "0b1\n",
      "0b1\n",
      "0b111\n",
      "0b100\n"
     ]
    }
   ],
   "source": [
    "bit = 0b101\n",
    "print(bin(bit & 0b1))\n",
    "\n",
    "bit = 0b101\n",
    "print(bin(bit & 0b0001))\n",
    "\n",
    "print(bin(bit | 0b10))\n",
    "\n",
    "print(bin(bit ^ 0b1))"
   ]
  },
  {
   "cell_type": "markdown",
   "metadata": {},
   "source": [
    "---\n",
    "\n",
    "### ビット列長は取得できるか??\n",
    "int型のインスタンスメソッド、bit_length()を用いることで取得可能。  \n",
    "\n",
    "---"
   ]
  },
  {
   "cell_type": "code",
   "execution_count": 15,
   "metadata": {
    "collapsed": false,
    "scrolled": true
   },
   "outputs": [
    {
     "name": "stdout",
     "output_type": "stream",
     "text": [
      "3\n"
     ]
    }
   ],
   "source": [
    "bit = 0b101\n",
    "print(bit.bit_length())"
   ]
  },
  {
   "cell_type": "markdown",
   "metadata": {},
   "source": [
    "----\n",
    "\n",
    "### 0のビット長っていくつなんだろう\n",
    "\n",
    "0だと...。\n",
    "\n",
    "---"
   ]
  },
  {
   "cell_type": "code",
   "execution_count": 17,
   "metadata": {
    "collapsed": false
   },
   "outputs": [
    {
     "name": "stdout",
     "output_type": "stream",
     "text": [
      "0\n"
     ]
    }
   ],
   "source": [
    "val = 0\n",
    "print(val.bit_length())"
   ]
  }
 ],
 "metadata": {
  "anaconda-cloud": {},
  "kernelspec": {
   "display_name": "Python [conda root]",
   "language": "python",
   "name": "conda-root-py"
  },
  "language_info": {
   "codemirror_mode": {
    "name": "ipython",
    "version": 3
   },
   "file_extension": ".py",
   "mimetype": "text/x-python",
   "name": "python",
   "nbconvert_exporter": "python",
   "pygments_lexer": "ipython3",
   "version": "3.5.2"
  }
 },
 "nbformat": 4,
 "nbformat_minor": 1
}
