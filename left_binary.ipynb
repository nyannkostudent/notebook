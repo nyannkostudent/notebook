{
 "cells": [
  {
   "cell_type": "markdown",
   "metadata": {},
   "source": [
    "# 左バイナリ法の実装\n",
    "\n",
    "## 目的\n",
    "べき乗を高速に計算する。  \n",
    "\n",
    "## アルゴリズム\n",
    "指数を2進として扱う。  \n",
    "ビット列長を取得して、最上位ビットのみ1のビットマスクを作成する。  \n",
    "ビットマスクを1ずつずらしながら以下の処理を行う。  \n",
    "- 現在までの合計を2乗する。  \n",
    "- もしビットマスクと指数のAND演算結果が0でない場合、現在までの値に底を乗算する。  \n",
    "\n",
    "以上の手順を繰り返すことにより実現をする。"
   ]
  },
  {
   "cell_type": "code",
   "execution_count": 1,
   "metadata": {
    "collapsed": true
   },
   "outputs": [],
   "source": [
    "def left_binary(a, k):\n",
    "    \n",
    "    # 特殊な場合はあらかじめ省いておこう。\n",
    "    if not isinstance(k, int):\n",
    "        raise Exception(\"exponent must be int.\")\n",
    "    \n",
    "    if k == 0:\n",
    "        return 1\n",
    "    elif k < 0:\n",
    "        raise Exception(\"left_binary() does'nt work support when exponent smaller than zero.\")\n",
    "    \n",
    "    # 最上位ビットが1のマスクを作成\n",
    "    mask = 1 << k.bit_length() - 1\n",
    "    \n",
    "    ans = 1\n",
    "    \n",
    "    # ビットマスクが移動し終わるまで、繰り返す。\n",
    "    while mask:\n",
    "        ans *= ans\n",
    "        \n",
    "        if k & mask:\n",
    "            ans *= a\n",
    "        \n",
    "        # ビットマスクを移動\n",
    "        mask >>= 1\n",
    "        \n",
    "    return ans"
   ]
  },
  {
   "cell_type": "code",
   "execution_count": 2,
   "metadata": {
    "collapsed": false
   },
   "outputs": [
    {
     "name": "stdout",
     "output_type": "stream",
     "text": [
      "243\n"
     ]
    }
   ],
   "source": [
    "if __name__ == '__main__':\n",
    "    print(left_binary(3, 5))"
   ]
  }
 ],
 "metadata": {
  "anaconda-cloud": {},
  "kernelspec": {
   "display_name": "Python [conda root]",
   "language": "python",
   "name": "conda-root-py"
  },
  "language_info": {
   "codemirror_mode": {
    "name": "ipython",
    "version": 3
   },
   "file_extension": ".py",
   "mimetype": "text/x-python",
   "name": "python",
   "nbconvert_exporter": "python",
   "pygments_lexer": "ipython3",
   "version": "3.5.2"
  }
 },
 "nbformat": 4,
 "nbformat_minor": 1
}
