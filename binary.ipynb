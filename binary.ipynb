{
 "cells": [
  {
   "cell_type": "markdown",
   "metadata": {},
   "source": [
    "# バイナリ法の実装\n",
    "\n",
    "**結局どっちが左右かわからないので、指数の上位ビットから考えるか下位ビットから考えるかで命名した。**\n",
    "\n",
    "## 目的\n",
    "べき乗を高速に計算する。  \n",
    "\n",
    "---\n",
    "\n",
    "## 指数の上位ビットから考えていく方式\n",
    "### アルゴリズム\n",
    "指数を2進として扱う。  \n",
    "ビット列長を取得して、最上位ビットのみ1のビットマスクを作成する。  \n",
    "ビットマスクを1ずつずらしながら以下の処理を行う。  \n",
    "- 現在までの合計を2乗する。  \n",
    "- もしビットマスクと指数のAND演算結果が0でない場合、現在までの値に底を乗算する。  \n",
    "\n",
    "以上の手順を繰り返すことにより実現をする。"
   ]
  },
  {
   "cell_type": "code",
   "execution_count": 1,
   "metadata": {
    "collapsed": true
   },
   "outputs": [],
   "source": [
    "# 単純なベキ乗\n",
    "def upper_binary(base, exponent):\n",
    "    \n",
    "    # 特殊な場合はあらかじめ省いておこう。\n",
    "    if not isinstance(exponent, int):\n",
    "        raise Exception(\"exponent must be int.\")\n",
    "    \n",
    "    if exponent == 0:\n",
    "        return 1\n",
    "    elif exponent < 0:\n",
    "        raise Exception(\"upper_binary() does'nt work support when exponent smaller than zero.\")\n",
    "    \n",
    "    # 最上位ビットが1のマスクを作成\n",
    "    mask = 1 << exponent.bit_length() - 1\n",
    "    \n",
    "    ans = 1\n",
    "    \n",
    "    # ビットマスクが移動し終わるまで、繰り返す。\n",
    "    while mask:\n",
    "        ans *= ans\n",
    "        \n",
    "        if exponent & mask:\n",
    "            ans *= base\n",
    "        \n",
    "        # ビットマスクを移動\n",
    "        mask >>= 1\n",
    "        \n",
    "    return ans"
   ]
  },
  {
   "cell_type": "markdown",
   "metadata": {},
   "source": [
    "---\n",
    "\n",
    "### ベキ乗の剰余計算の場合\n",
    "乗算の度に剰余演算を繰り返すことにより計算を行う。\n",
    "\n",
    "---"
   ]
  },
  {
   "cell_type": "code",
   "execution_count": 5,
   "metadata": {
    "collapsed": true
   },
   "outputs": [],
   "source": [
    "# ベキ乗の剰余計算\n",
    "def upper_binary_mod(base, exponent, mod):\n",
    "    # 特殊な場合はあらかじめ省いておこう。\n",
    "    if not isinstance(exponent, int):\n",
    "        raise Exception(\"exponent must be int.\")\n",
    "    \n",
    "    if exponent == 0:\n",
    "        return 1\n",
    "    elif exponent < 0:\n",
    "        raise Exception(\"upper_binary() does'nt work support when exponent smaller than zero.\")\n",
    "        \n",
    "    if not isinstance(mod, int):\n",
    "        raise Exception(\"mod must be int.\")\n",
    "        \n",
    "    if mod <= 0:\n",
    "        raise Exception(\"mod must be larger than zero.\")\n",
    "        \n",
    "    # 最上位ビットが1のマスクを作成\n",
    "    mask = 1 << exponent.bit_length() - 1\n",
    "    \n",
    "    ans = 1\n",
    "    \n",
    "    # ビットマスクが移動し終わるまで、繰り返す。\n",
    "    while mask:\n",
    "        ans = (ans * ans) % mod\n",
    "        \n",
    "        if exponent & mask:\n",
    "            ans = (ans * base) % mod\n",
    "        \n",
    "        # ビットマスクを移動\n",
    "        mask >>= 1\n",
    "        \n",
    "    return ans"
   ]
  },
  {
   "cell_type": "markdown",
   "metadata": {},
   "source": [
    "## 指数の下位ビットから考えていく方式\n",
    "### アルゴリズム\n",
    "指数を2進表記して、ビット列長を求める。  \n",
    "ビット列長の分だけマスクを左にシフトさせながら底を2乗していき、マスクと指数のAND演算が0でないときにその時の底のベキ乗の値を結果に乗算する。  \n",
    "\n",
    "---"
   ]
  },
  {
   "cell_type": "code",
   "execution_count": 13,
   "metadata": {
    "collapsed": true
   },
   "outputs": [],
   "source": [
    "# 単純なベキ乗を求める。\n",
    "def lower_binary(base, exponent):\n",
    "    if not isinstance(exponent, int):\n",
    "        raise Exception(\"exponent must be int\")\n",
    "    \n",
    "    if exponent == 1:\n",
    "        return 1\n",
    "    \n",
    "    if exponent < 1:\n",
    "        raise Exception(\"exponent must be larger than zero\")\n",
    "        \n",
    "    max_mask = 1 << (exponent.bit_length() - 1)\n",
    "    \n",
    "    mask = 1\n",
    "    \n",
    "    ans = 1\n",
    "    current_base = base\n",
    "    \n",
    "    while max_mask >= mask:\n",
    "        if mask & exponent != 0:\n",
    "            ans *= current_base\n",
    "        \n",
    "        current_base *= current_base\n",
    "        \n",
    "        mask <<= 1\n",
    "    \n",
    "    return ans"
   ]
  },
  {
   "cell_type": "code",
   "execution_count": 16,
   "metadata": {
    "collapsed": false
   },
   "outputs": [],
   "source": [
    "# ベキ乗の剰余計算\n",
    "def lower_binary_mod(base, exponent, mod):\n",
    "    if not isinstance(exponent, int):\n",
    "        raise Exception(\"exponent must be int\")\n",
    "    \n",
    "    if exponent == 1:\n",
    "        return 1\n",
    "    \n",
    "    if exponent < 1:\n",
    "        raise Exception(\"exponent must be larger than zero.\")\n",
    "        \n",
    "    if not isinstance(mod, int):\n",
    "        raise Exception(\"mod must be int.\")\n",
    "        \n",
    "    if mod < 1:\n",
    "        raise Exception(\"mod must be larger than zero.\")\n",
    "        \n",
    "    max_mask = 1 << (exponent.bit_length() - 1)\n",
    "    \n",
    "    mask = 1\n",
    "    \n",
    "    ans = 1\n",
    "    current_base = base\n",
    "    \n",
    "    while max_mask >= mask:\n",
    "        if mask & exponent != 0:\n",
    "            ans = (ans * current_base) % mod \n",
    "        \n",
    "        current_base *= current_base\n",
    "        \n",
    "        mask <<= 1\n",
    "    \n",
    "    return ans"
   ]
  },
  {
   "cell_type": "markdown",
   "metadata": {},
   "source": [
    "## 以下作成した関数のベンチマークのためのテスト\n",
    "### 方法\n",
    "ランダムな系列を作成。  \n",
    "組み込みの関数と作成した2種の関数でそれぞれ比較を行う。  "
   ]
  },
  {
   "cell_type": "code",
   "execution_count": 81,
   "metadata": {
    "collapsed": false
   },
   "outputs": [],
   "source": [
    "def test_benchmark():\n",
    "    from random import randint\n",
    "    from time import time\n",
    "    arg_list = [{'base': randint(1, 100), 'exponent': randint(1, 100)} for i in range(10000)]\n",
    "    \n",
    "    upper_time = 0\n",
    "    for d in arg_list:\n",
    "        start = time()\n",
    "        upper_binary(d['base'], d['exponent'])\n",
    "        upper_time += time() - start\n",
    "    print('upper_binary(): ' + str(upper_time * 1000) + 'ms')\n",
    "    \n",
    "    lower_time = 0\n",
    "    for d in arg_list:\n",
    "        start = time()\n",
    "        lower_binary(d['base'], d['exponent'])\n",
    "        lower_time += time() - start\n",
    "    print('lower_binary() : ' + str(lower_time * 1000) + 'ms')\n",
    "    \n",
    "    builtin_time = 0\n",
    "    for d in arg_list:\n",
    "        start = time()\n",
    "        d['base'] ** d['exponent']\n",
    "        builtin_time += time() - start\n",
    "    print('builtin                : ' + str(builtin_time * 1000) + 'ms')"
   ]
  },
  {
   "cell_type": "code",
   "execution_count": 91,
   "metadata": {
    "collapsed": false
   },
   "outputs": [
    {
     "name": "stdout",
     "output_type": "stream",
     "text": [
      "upper_binary(): 122.76482582092285ms\n",
      "lower_binary() : 115.73076248168945ms\n",
      "builtin                : 25.571823120117188ms\n"
     ]
    }
   ],
   "source": [
    "if __name__ == '__main__':\n",
    "#     print(upper_binary(3, 5))\n",
    "#     print(upper_binary_mod(3, 5, 4))\n",
    "#     print(lower_binary(3, 5))\n",
    "#     print(lower_binary_mod(3, 5, 4))\n",
    "    test_benchmark()"
   ]
  },
  {
   "cell_type": "code",
   "execution_count": 26,
   "metadata": {
    "collapsed": false
   },
   "outputs": [
    {
     "data": {
      "text/plain": [
       "243"
      ]
     },
     "execution_count": 26,
     "metadata": {},
     "output_type": "execute_result"
    }
   ],
   "source": [
    "3 ** 5"
   ]
  }
 ],
 "metadata": {
  "anaconda-cloud": {},
  "kernelspec": {
   "display_name": "Python [conda root]",
   "language": "python",
   "name": "conda-root-py"
  },
  "language_info": {
   "codemirror_mode": {
    "name": "ipython",
    "version": 3
   },
   "file_extension": ".py",
   "mimetype": "text/x-python",
   "name": "python",
   "nbconvert_exporter": "python",
   "pygments_lexer": "ipython3",
   "version": "3.5.2"
  }
 },
 "nbformat": 4,
 "nbformat_minor": 1
}
